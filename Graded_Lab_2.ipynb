{
  "cells": [
    {
      "cell_type": "markdown",
      "metadata": {
        "id": "-ZrTg16eO_2D"
      },
      "source": [
        "## DAB200 -- Graded Lab 2\n",
        "\n",
        "In this lab, you will gain some experience in converting non-numeric features in a dataset to numeric so they can be used in a machine learning model.\n",
        "\n",
        "**Target**: to predict `Comb Unadj FE - Conventional Fuel`\n",
        "\n",
        "**Note**: There may be other \"features\" similar to the target, so these need to be removed from the data."
      ]
    },
    {
      "cell_type": "markdown",
      "metadata": {
        "id": "xC5Sv1WcO_2F"
      },
      "source": [
        "**Data set**: make sure you use the data assigned to your group!\n",
        "\n",
        "| Groups | Data set |\n",
        "| :-: | :-: |\n",
        "| 1-4 | veh15.csv |\n",
        "| 5-7 | veh16.csv |\n",
        "| 8-10 | veh17.csv |\n",
        "| 11-14 | veh18.csv |\n",
        "| 15-18 | veh19.csv |\n",
        "\n",
        "**Important Notes:**\n",
        "- Use [Chapter 6](https://mlbook.explained.ai/catvars.html) of the textbook as a **guide**:\n",
        "     - you only need to use **random forest** models;\n",
        "- Code submitted for this lab should be:\n",
        "     - error free\n",
        "         - to make sure this is the case, before submitting, close all Jupyter notebooks, exit Anaconda, reload the lab notebook and execute all cells\n",
        "     - final code\n",
        "         - this means that I don't want to see every piece of code you try as you work through this lab but only the final code; only the code that fulfills the objective\n",
        "- Use the **out-of-bag score** to evaluate models\n",
        "     - Read Section 5.2 carefully so that you use this method properly\n",
        "     - The oob score that you provide should be the average of 10 runs\n",
        "- Don't make assumptions!\n"
      ]
    },
    {
      "cell_type": "markdown",
      "metadata": {
        "id": "aRlCrDTpO_2G"
      },
      "source": [
        "### Part 0\n",
        "\n",
        "Please provide the following information:\n",
        " - Group Number:   12\n",
        " - Group Members\n",
        "     - Jonathan Alberto Calle Zuniga (0825959)\n",
        "     - Jonathan Chukwuma OTEH (0775057)\n",
        "     - Ali Salman (0840471)\n"
      ]
    },
    {
      "cell_type": "markdown",
      "metadata": {
        "id": "rIrN45-FO_2H"
      },
      "source": [
        "### Part 1 - Create and evaluate an initial model\n",
        "\n",
        "In this part you should:\n",
        " - read in the data\n",
        " - isolate all numeric features from original data set\n",
        " - verify there are no missing values\n",
        " - create and evaluate a baseline model\n",
        "\n",
        "#### Code (15 marks)"
      ]
    },
    {
      "cell_type": "code",
      "execution_count": null,
      "metadata": {
        "id": "M_ScKhJ-O_2I"
      },
      "outputs": [],
      "source": [
        "import numpy as np\n",
        "import pandas as pd\n",
        "from sklearn.ensemble import RandomForestRegressor\n",
        "from sklearn.model_selection import train_test_split\n",
        "from rfpimp import *"
      ]
    },
    {
      "cell_type": "code",
      "execution_count": null,
      "metadata": {
        "id": "bHiLEwF4mmhq"
      },
      "outputs": [],
      "source": [
        "#!pip install rfpimp"
      ]
    },
    {
      "cell_type": "code",
      "execution_count": null,
      "metadata": {
        "colab": {
          "base_uri": "https://localhost:8080/",
          "height": 243
        },
        "id": "CnFvczfQPLo5",
        "outputId": "f1f84b04-9855-4d79-fe7e-6b2ba74ba552"
      },
      "outputs": [
        {
          "name": "stdout",
          "output_type": "stream",
          "text": [
            "(1163, 12)\n"
          ]
        },
        {
          "data": {
            "text/html": [
              "\n",
              "  <div id=\"df-a90c98c4-d170-40d6-b4f4-1fbca69d9b18\">\n",
              "    <div class=\"colab-df-container\">\n",
              "      <div>\n",
              "<style scoped>\n",
              "    .dataframe tbody tr th:only-of-type {\n",
              "        vertical-align: middle;\n",
              "    }\n",
              "\n",
              "    .dataframe tbody tr th {\n",
              "        vertical-align: top;\n",
              "    }\n",
              "\n",
              "    .dataframe thead th {\n",
              "        text-align: right;\n",
              "    }\n",
              "</style>\n",
              "<table border=\"1\" class=\"dataframe\">\n",
              "  <thead>\n",
              "    <tr style=\"text-align: right;\">\n",
              "      <th></th>\n",
              "      <th>Eng Displ</th>\n",
              "      <th># Cyl</th>\n",
              "      <th>Comb Unadj FE - Conventional Fuel</th>\n",
              "      <th># Gears</th>\n",
              "      <th>Max Ethanol % - Gasoline</th>\n",
              "      <th>Intake Valves Per Cyl</th>\n",
              "      <th>Exhaust Valves Per Cyl</th>\n",
              "      <th>Fuel Metering Sys Desc</th>\n",
              "      <th>Air Aspiration Method Desc</th>\n",
              "      <th>Trans Desc</th>\n",
              "      <th>Cyl Deact?</th>\n",
              "      <th>Var Valve Lift?</th>\n",
              "    </tr>\n",
              "  </thead>\n",
              "  <tbody>\n",
              "    <tr>\n",
              "      <th>0</th>\n",
              "      <td>5.2</td>\n",
              "      <td>12</td>\n",
              "      <td>22.8444</td>\n",
              "      <td>8</td>\n",
              "      <td>10.0</td>\n",
              "      <td>2</td>\n",
              "      <td>2</td>\n",
              "      <td>Multipoint/sequential fuel injection</td>\n",
              "      <td>Turbocharged</td>\n",
              "      <td>Semi-Automatic</td>\n",
              "      <td>Y</td>\n",
              "      <td>N</td>\n",
              "    </tr>\n",
              "    <tr>\n",
              "      <th>1</th>\n",
              "      <td>4.0</td>\n",
              "      <td>8</td>\n",
              "      <td>26.6603</td>\n",
              "      <td>8</td>\n",
              "      <td>10.0</td>\n",
              "      <td>2</td>\n",
              "      <td>2</td>\n",
              "      <td>Multipoint/sequential fuel injection</td>\n",
              "      <td>Turbocharged</td>\n",
              "      <td>Semi-Automatic</td>\n",
              "      <td>N</td>\n",
              "      <td>N</td>\n",
              "    </tr>\n",
              "  </tbody>\n",
              "</table>\n",
              "</div>\n",
              "      <button class=\"colab-df-convert\" onclick=\"convertToInteractive('df-a90c98c4-d170-40d6-b4f4-1fbca69d9b18')\"\n",
              "              title=\"Convert this dataframe to an interactive table.\"\n",
              "              style=\"display:none;\">\n",
              "        \n",
              "  <svg xmlns=\"http://www.w3.org/2000/svg\" height=\"24px\"viewBox=\"0 0 24 24\"\n",
              "       width=\"24px\">\n",
              "    <path d=\"M0 0h24v24H0V0z\" fill=\"none\"/>\n",
              "    <path d=\"M18.56 5.44l.94 2.06.94-2.06 2.06-.94-2.06-.94-.94-2.06-.94 2.06-2.06.94zm-11 1L8.5 8.5l.94-2.06 2.06-.94-2.06-.94L8.5 2.5l-.94 2.06-2.06.94zm10 10l.94 2.06.94-2.06 2.06-.94-2.06-.94-.94-2.06-.94 2.06-2.06.94z\"/><path d=\"M17.41 7.96l-1.37-1.37c-.4-.4-.92-.59-1.43-.59-.52 0-1.04.2-1.43.59L10.3 9.45l-7.72 7.72c-.78.78-.78 2.05 0 2.83L4 21.41c.39.39.9.59 1.41.59.51 0 1.02-.2 1.41-.59l7.78-7.78 2.81-2.81c.8-.78.8-2.07 0-2.86zM5.41 20L4 18.59l7.72-7.72 1.47 1.35L5.41 20z\"/>\n",
              "  </svg>\n",
              "      </button>\n",
              "      \n",
              "  <style>\n",
              "    .colab-df-container {\n",
              "      display:flex;\n",
              "      flex-wrap:wrap;\n",
              "      gap: 12px;\n",
              "    }\n",
              "\n",
              "    .colab-df-convert {\n",
              "      background-color: #E8F0FE;\n",
              "      border: none;\n",
              "      border-radius: 50%;\n",
              "      cursor: pointer;\n",
              "      display: none;\n",
              "      fill: #1967D2;\n",
              "      height: 32px;\n",
              "      padding: 0 0 0 0;\n",
              "      width: 32px;\n",
              "    }\n",
              "\n",
              "    .colab-df-convert:hover {\n",
              "      background-color: #E2EBFA;\n",
              "      box-shadow: 0px 1px 2px rgba(60, 64, 67, 0.3), 0px 1px 3px 1px rgba(60, 64, 67, 0.15);\n",
              "      fill: #174EA6;\n",
              "    }\n",
              "\n",
              "    [theme=dark] .colab-df-convert {\n",
              "      background-color: #3B4455;\n",
              "      fill: #D2E3FC;\n",
              "    }\n",
              "\n",
              "    [theme=dark] .colab-df-convert:hover {\n",
              "      background-color: #434B5C;\n",
              "      box-shadow: 0px 1px 3px 1px rgba(0, 0, 0, 0.15);\n",
              "      filter: drop-shadow(0px 1px 2px rgba(0, 0, 0, 0.3));\n",
              "      fill: #FFFFFF;\n",
              "    }\n",
              "  </style>\n",
              "\n",
              "      <script>\n",
              "        const buttonEl =\n",
              "          document.querySelector('#df-a90c98c4-d170-40d6-b4f4-1fbca69d9b18 button.colab-df-convert');\n",
              "        buttonEl.style.display =\n",
              "          google.colab.kernel.accessAllowed ? 'block' : 'none';\n",
              "\n",
              "        async function convertToInteractive(key) {\n",
              "          const element = document.querySelector('#df-a90c98c4-d170-40d6-b4f4-1fbca69d9b18');\n",
              "          const dataTable =\n",
              "            await google.colab.kernel.invokeFunction('convertToInteractive',\n",
              "                                                     [key], {});\n",
              "          if (!dataTable) return;\n",
              "\n",
              "          const docLinkHtml = 'Like what you see? Visit the ' +\n",
              "            '<a target=\"_blank\" href=https://colab.research.google.com/notebooks/data_table.ipynb>data table notebook</a>'\n",
              "            + ' to learn more about interactive tables.';\n",
              "          element.innerHTML = '';\n",
              "          dataTable['output_type'] = 'display_data';\n",
              "          await google.colab.output.renderOutput(dataTable, element);\n",
              "          const docLink = document.createElement('div');\n",
              "          docLink.innerHTML = docLinkHtml;\n",
              "          element.appendChild(docLink);\n",
              "        }\n",
              "      </script>\n",
              "    </div>\n",
              "  </div>\n",
              "  "
            ],
            "text/plain": [
              "   Eng Displ  # Cyl  Comb Unadj FE - Conventional Fuel  # Gears  \\\n",
              "0        5.2     12                            22.8444        8   \n",
              "1        4.0      8                            26.6603        8   \n",
              "\n",
              "   Max Ethanol % - Gasoline  Intake Valves Per Cyl  Exhaust Valves Per Cyl  \\\n",
              "0                      10.0                      2                       2   \n",
              "1                      10.0                      2                       2   \n",
              "\n",
              "                 Fuel Metering Sys Desc Air Aspiration Method Desc  \\\n",
              "0  Multipoint/sequential fuel injection               Turbocharged   \n",
              "1  Multipoint/sequential fuel injection               Turbocharged   \n",
              "\n",
              "       Trans Desc Cyl Deact? Var Valve Lift?  \n",
              "0  Semi-Automatic          Y               N  \n",
              "1  Semi-Automatic          N               N  "
            ]
          },
          "execution_count": 76,
          "metadata": {},
          "output_type": "execute_result"
        }
      ],
      "source": [
        "veh_18 = pd.read_csv(\"https://raw.githubusercontent.com/joncalle/ML1/main/veh18.csv\")\n",
        "print(veh_18.shape) # print rows, columns\n",
        "veh_18.head(2)      # dump first 2 rows"
      ]
    },
    {
      "cell_type": "code",
      "execution_count": null,
      "metadata": {
        "id": "PLhbr5NmTU2k"
      },
      "outputs": [],
      "source": [
        "#isolate all numeric features from original data set\n",
        "features = ['Eng Displ', '# Cyl', 'Comb Unadj FE - Conventional Fuel', '# Gears',\n",
        "       'Max Ethanol % - Gasoline', 'Intake Valves Per Cyl',\n",
        "       'Exhaust Valves Per Cyl']\n",
        "\n",
        "df_veh = veh_18[features]"
      ]
    },
    {
      "cell_type": "code",
      "execution_count": null,
      "metadata": {
        "colab": {
          "base_uri": "https://localhost:8080/"
        },
        "id": "tDyREe2xVOYX",
        "outputId": "373292c2-42e1-4c82-9742-c37fdaf720ae"
      },
      "outputs": [
        {
          "data": {
            "text/plain": [
              "Eng Displ                            0\n",
              "# Cyl                                0\n",
              "Comb Unadj FE - Conventional Fuel    0\n",
              "# Gears                              0\n",
              "Max Ethanol % - Gasoline             0\n",
              "Intake Valves Per Cyl                0\n",
              "Exhaust Valves Per Cyl               0\n",
              "Fuel Metering Sys Desc               0\n",
              "Air Aspiration Method Desc           0\n",
              "Trans Desc                           0\n",
              "Cyl Deact?                           0\n",
              "Var Valve Lift?                      0\n",
              "dtype: int64"
            ]
          },
          "execution_count": 78,
          "metadata": {},
          "output_type": "execute_result"
        }
      ],
      "source": [
        "#verify there are no missing values\n",
        "veh_18.isna().sum()"
      ]
    },
    {
      "cell_type": "code",
      "execution_count": null,
      "metadata": {
        "colab": {
          "base_uri": "https://localhost:8080/"
        },
        "id": "vh5PdYhvVeVS",
        "outputId": "412ea0d9-83b1-4e55-aa0c-96daa18b7f4f"
      },
      "outputs": [
        {
          "name": "stdout",
          "output_type": "stream",
          "text": [
            "Average OOB score over 10 runs for model 1: 0.7224\n"
          ]
        }
      ],
      "source": [
        "X, y = df_veh.drop('Comb Unadj FE - Conventional Fuel', axis = 1), df_veh['Comb Unadj FE - Conventional Fuel']\n",
        "oob_scores = []\n",
        "predictions_1 =[]\n",
        "for i in range(10):\n",
        "    rf_part1 = RandomForestRegressor(n_estimators=100, n_jobs=-1, oob_score=True, random_state=42)\n",
        "    X_train, X_test, y_train, y_test = train_test_split(X, y, test_size=0.2, random_state=42)\n",
        "    rf_part1.fit(X_train, y_train)\n",
        "    oob_scores.append(rf_part1.oob_score_)\n",
        "\n",
        "\n",
        "avg_oob_scores_1 = sum(oob_scores) / len(oob_scores)\n",
        "\n",
        "print(f\"Average OOB score over 10 runs for model 1: {avg_oob_scores_1:.4f}\")"
      ]
    },
    {
      "cell_type": "markdown",
      "metadata": {
        "id": "zpWp-CyCO_2I"
      },
      "source": [
        "#### Question (5 marks)\n",
        "Explain the purpose of creating a baseline model.\n",
        "\n",
        "Baseline model is used to measure any improvements in model, it also serves as a point of comparison to check if all future models are better that the intitial and usually simple one."
      ]
    },
    {
      "cell_type": "markdown",
      "metadata": {
        "id": "Iio4pydvO_2J"
      },
      "source": [
        "### Part 2 - Convert non-numeric features to numeric\n",
        "\n",
        "In this part you should:\n",
        " - convert **all** non-numeric features to numeric\n",
        " - one of the conversions should use **one-hot encoding**\n",
        " - create **one new feature** by combining 2 or more of the existing features\n",
        "\n",
        "#### Code (25 marks)"
      ]
    },
    {
      "cell_type": "code",
      "execution_count": null,
      "metadata": {
        "colab": {
          "base_uri": "https://localhost:8080/"
        },
        "id": "WpzyzgFEO_2J",
        "outputId": "ffc6e8ee-629a-4124-b4c4-c60adabfc14d"
      },
      "outputs": [
        {
          "name": "stdout",
          "output_type": "stream",
          "text": [
            "['Multipoint/sequential fuel injection' 'Spark Ignition Direct Injection'\n",
            " 'Spark Ignition direct & ported injection']\n",
            "['Turbocharged' 'Naturally Aspirated' 'Supercharged'\n",
            " 'Turbocharged+Supercharged']\n",
            "['Semi-Automatic' 'Manual'\n",
            " 'Automated Manual- Selectable (e.g. Automated Manual with paddles)'\n",
            " 'Automatic' 'Automated Manual' 'Continuously Variable'\n",
            " 'Selectable Continuously Variable (e.g. CVT with paddles)']\n",
            "['Y' 'N']\n",
            "['N' 'Y']\n"
          ]
        }
      ],
      "source": [
        "features = ['Fuel Metering Sys Desc','Air Aspiration Method Desc','Trans Desc','Cyl Deact?','Var Valve Lift?']\n",
        "df2 = veh_18[features]\n",
        "for col in df2:\n",
        "  print(df2[col].unique())"
      ]
    },
    {
      "cell_type": "code",
      "execution_count": null,
      "metadata": {
        "colab": {
          "base_uri": "https://localhost:8080/"
        },
        "id": "SZL-tudDheGv",
        "outputId": "ab8b53df-cb98-4856-e6ac-ceb2183c8ceb"
      },
      "outputs": [
        {
          "name": "stdout",
          "output_type": "stream",
          "text": [
            "2    834\n",
            "1    251\n",
            "3     78\n",
            "Name: Fuel Metering Sys Desc, dtype: int64\n"
          ]
        }
      ],
      "source": [
        " # label encoding is used to simply convert each category to a numeric value, while ignoring the fact that the categories are not really ordered, it is just Y or N\n",
        "fea1 = 'Fuel Metering Sys Desc'\n",
        "veh_18[fea1] = veh_18[fea1].astype('category').cat.as_ordered()\n",
        "veh_18[fea1] = veh_18[fea1].cat.codes + 1\n",
        "print(veh_18[fea1].value_counts())\n"
      ]
    },
    {
      "cell_type": "code",
      "execution_count": null,
      "metadata": {
        "colab": {
          "base_uri": "https://localhost:8080/"
        },
        "id": "ZNgVcphfiOLK",
        "outputId": "9a23baad-c507-4219-bb6f-31b4c2450272"
      },
      "outputs": [
        {
          "name": "stdout",
          "output_type": "stream",
          "text": [
            "3    614\n",
            "1    489\n",
            "2     51\n",
            "4      9\n",
            "Name: Air Aspiration Method Desc, dtype: int64\n"
          ]
        }
      ],
      "source": [
        "fea2 = 'Air Aspiration Method Desc'\n",
        "veh_18[fea2] = veh_18[fea2].astype('category').cat.as_ordered()\n",
        "veh_18[fea2] = veh_18[fea2].cat.codes + 1\n",
        "print(veh_18[fea2].value_counts())"
      ]
    },
    {
      "cell_type": "code",
      "execution_count": null,
      "metadata": {
        "colab": {
          "base_uri": "https://localhost:8080/"
        },
        "id": "P6CO6n1GinwG",
        "outputId": "b307dc23-eaab-436e-e6e4-95072f77eae1"
      },
      "outputs": [
        {
          "name": "stdout",
          "output_type": "stream",
          "text": [
            "7    529\n",
            "3    246\n",
            "5    165\n",
            "2    103\n",
            "6     46\n",
            "1     45\n",
            "4     29\n",
            "Name: Trans Desc, dtype: int64\n"
          ]
        }
      ],
      "source": [
        "fea3 = 'Trans Desc'\n",
        "veh_18[fea3] = veh_18[fea3].astype('category').cat.as_ordered()\n",
        "veh_18[fea3] = veh_18[fea3].cat.codes + 1\n",
        "print(veh_18[fea3].value_counts())"
      ]
    },
    {
      "cell_type": "code",
      "execution_count": null,
      "metadata": {
        "colab": {
          "base_uri": "https://localhost:8080/"
        },
        "id": "p3eqZkDuhX1B",
        "outputId": "df6e6009-215a-4b31-ac9c-1ce7ee24cd3f"
      },
      "outputs": [
        {
          "name": "stdout",
          "output_type": "stream",
          "text": [
            "0    1017\n",
            "1     146\n",
            "Name: Cyl Deact?, dtype: int64\n"
          ]
        }
      ],
      "source": [
        "fea4 = 'Cyl Deact?'\n",
        "veh_18[fea4] = veh_18[fea4].map({'Y':1,'N':0})\n",
        "print(veh_18[fea4].value_counts())"
      ]
    },
    {
      "cell_type": "code",
      "execution_count": null,
      "metadata": {
        "colab": {
          "base_uri": "https://localhost:8080/"
        },
        "id": "d6L2o-qDj1NI",
        "outputId": "dd51f08a-20ec-483b-a07e-23b895f3f6b9"
      },
      "outputs": [
        {
          "name": "stdout",
          "output_type": "stream",
          "text": [
            "0    806\n",
            "1    357\n",
            "Name: Var Valve Lift?, dtype: int64\n"
          ]
        }
      ],
      "source": [
        "fea5 = 'Var Valve Lift?'\n",
        "veh_18[fea5] = veh_18[fea5].map({'N':0,'Y':1})\n",
        "print(veh_18[fea5].value_counts())"
      ]
    },
    {
      "cell_type": "markdown",
      "metadata": {
        "id": "g5PuJKrWO_2J"
      },
      "source": [
        "#### Explanation (25 marks)\n",
        "\n",
        "Please provide an explanation for each conversion from non-numeric to numeric and state why this conversion is appropriate. Please also provide an explanation of the new feature created."
      ]
    },
    {
      "cell_type": "markdown",
      "source": [
        "1. We selected all the non numeric features to convert the features to numerical data as input for easy machine learning algorithms and mathematical operations that is required\n",
        "2. We convert from non-numeric to numeric in the folowing reason below:\n",
        "  - Encoding categorical variables: Hence, Non-numeric features frequently indicate categorical variables with several levels or classes. The algorithms can correctly analyse and make use of the data when these categorical variables are converted to numeric utilising methods like one-hot encoding or label encoding. This conversion aids in capturing any underlying order or relationships between the categories.\n",
        "  - Numeric features allow for the production of new features by carrying out operations such as arithmetic calculations, aggregates, or mathematical transformations. These extra patterns and connections that are captured by the derived features may improve the model's capacity for prediction.\n",
        "  - Model compatibility: The majority of machine learning methods, including neural networks, decision trees, and linear regression, demand numeric input for both the features (independent variables) and the target variable (dependent variable). You may be certain that the data can be utilised as input for these models by changing non-numeric attributes to numeric ones.\n",
        "  - Operations in mathematics: Numeric data can be used to perform operations in mathematics including addition, subtraction, multiplication, and division. These actions are necessary to carry out the computations and transformations that are frequently needed during model training, and data preprocessing and\n",
        "  - Scaling and standardisation: Numeric features can be quickly and readily scaled to a common range. Feature scaling, which involves transforming features to have a comparable scale or distribution, is advantageous to many machine learning methods. To ensure uniform treatment across various features, it might be necessary to transform non-numeric features to numeric and then scale them."
      ],
      "metadata": {
        "id": "7DZslGVlW2cz"
      }
    },
    {
      "cell_type": "markdown",
      "metadata": {
        "id": "3ERpKqq3O_2J"
      },
      "source": [
        "### Part 3 - Create and evaluate a final model\n",
        "\n",
        "In this part you should:\n",
        " - create and evaluate a model using all the features from Parts 1 and 2 above\n",
        "\n",
        "#### Code (15 marks)"
      ]
    },
    {
      "cell_type": "code",
      "execution_count": null,
      "metadata": {
        "colab": {
          "base_uri": "https://localhost:8080/"
        },
        "id": "ZKs4t12hO_2K",
        "outputId": "4ed93a59-0af4-4530-862c-fa111920e267"
      },
      "outputs": [
        {
          "name": "stdout",
          "output_type": "stream",
          "text": [
            "Average OOB score over 10 runs for model 2: 0.8740\n"
          ]
        }
      ],
      "source": [
        "X2, y2 = veh_18.drop('Comb Unadj FE - Conventional Fuel', axis = 1), df_veh['Comb Unadj FE - Conventional Fuel']\n",
        "oob_scores_2 = []\n",
        "\n",
        "for i in range(10):\n",
        "    rf_part2 = RandomForestRegressor(n_estimators=100, n_jobs=-1, oob_score=True, random_state=42)\n",
        "    X_train, X_test, y_train, y_test = train_test_split(X2, y2, test_size=0.2, random_state=42)\n",
        "    rf_part2.fit(X_train, y_train)\n",
        "    oob_scores_2.append(rf_part2.oob_score_)\n",
        "\n",
        "\n",
        "avg_oob_scores_2 = sum(oob_scores_2) / len(oob_scores_2)\n",
        "print(f\"Average OOB score over 10 runs for model 2: {avg_oob_scores_2:.4f}\")"
      ]
    },
    {
      "cell_type": "markdown",
      "metadata": {
        "id": "0goNOnyOO_2K"
      },
      "source": [
        "### Part 4 - Feature importances and comparison (10 marks)\n",
        "\n",
        "In this part you should:\n",
        " - calculate the percent difference between the results of Part 1 and Part 3 (make sure you are using the correct formula for percent difference)\n",
        " - based on the percent difference, state whether or not the results of Part 3 are an improvement over the results of Part 1\n",
        " - use the `rfpimp` package to calculate and display the feature importances for all features"
      ]
    },
    {
      "cell_type": "code",
      "execution_count": null,
      "metadata": {
        "colab": {
          "base_uri": "https://localhost:8080/"
        },
        "id": "sXCYShJXO_2K",
        "outputId": "0985a54d-976c-47b4-8681-9b7d979ab6fb"
      },
      "outputs": [
        {
          "name": "stdout",
          "output_type": "stream",
          "text": [
            "0.7224172448368936\n",
            "0.8739734197354407\n"
          ]
        }
      ],
      "source": [
        "print(avg_oob_scores_1)\n",
        "print(avg_oob_scores_2)"
      ]
    },
    {
      "cell_type": "code",
      "execution_count": null,
      "metadata": {
        "colab": {
          "base_uri": "https://localhost:8080/"
        },
        "id": "uYLhsDXynGZj",
        "outputId": "332ee9d0-0f8c-4975-abcd-4bfacd167d21"
      },
      "outputs": [
        {
          "name": "stdout",
          "output_type": "stream",
          "text": [
            "The percent difference between the results of Part 1 and Part 3 is: 18.99%\n"
          ]
        }
      ],
      "source": [
        "percent_difference = abs(avg_oob_scores_1 - avg_oob_scores_2) / ((avg_oob_scores_1 + avg_oob_scores_2) / 2) * 100\n",
        "print(f\"The percent difference between the results of Part 1 and Part 3 is: {percent_difference:.2f}%\")"
      ]
    },
    {
      "cell_type": "code",
      "execution_count": null,
      "metadata": {
        "colab": {
          "base_uri": "https://localhost:8080/",
          "height": 157
        },
        "id": "nQXCeLJInJtl",
        "outputId": "bca84626-1ac7-4ae5-ef80-cd51fe7a0bca"
      },
      "outputs": [
        {
          "data": {
            "image/png": "[encoded data removed]",
            "text/plain": [
              "<Figure size 400x150 with 1 Axes>"
            ]
          },
          "metadata": {},
          "output_type": "display_data"
        }
      ],
      "source": [
        "# Display feature importances for Part 1\n",
        "def showimp(rf, X, y):\n",
        "    features = list(X.columns)\n",
        "\n",
        "    I = importances(rf, X, y, features=features)\n",
        "    plot_importances(I, color='#4575b4')\n",
        "\n",
        "showimp(rf_part1, X, y)"
      ]
    },
    {
      "cell_type": "code",
      "execution_count": null,
      "metadata": {
        "colab": {
          "base_uri": "https://localhost:8080/",
          "height": 242
        },
        "id": "36n7M0GmnYxI",
        "outputId": "c5661a86-d9d4-4989-f365-afa1838e1045"
      },
      "outputs": [
        {
          "data": {
            "image/png": "[encoded data removed]",
            "text/plain": [
              "<Figure size 400x236 with 1 Axes>"
            ]
          },
          "metadata": {},
          "output_type": "display_data"
        }
      ],
      "source": [
        "# Display feature importances for Part 3\n",
        "def showimp(rf_part2, X2, y2):\n",
        "    features = list(X.columns)\n",
        "    I = importances(rf_part2, X2, y2, features=features)\n",
        "    plot_importances(I, color='#4575b4')\n",
        "\n",
        "showimp(rf_part2, X2, y2)"
      ]
    },
    {
      "cell_type": "markdown",
      "metadata": {
        "id": "zZ22GKJcO_2K"
      },
      "source": [
        "#### Question (5 marks)\n",
        "\n",
        "Based on the feature importances, are any features that you think should be removed from the data set.  Why do you think these features should be removed?"
      ]
    },
    {
      "cell_type": "markdown",
      "metadata": {
        "id": "r7RSY2jPWJms"
      },
      "source": [
        "\n",
        "1. intake value per cyl\n",
        "2. exhaust value per cyl\n",
        "\n",
        "These features could potentially be removed because they have low feature importances in both Part 1 and Part 3. Low feature importances indicate that these features have less impact or correlation with the target variable, 'Comb Unadj FE - Conventional Fuel'. Removing such features can simplify the model and potentially improve its performance by reducing noise or irrelevant information.\n"
      ]
    },
    {
      "cell_type": "code",
      "execution_count": null,
      "metadata": {
        "id": "Ly3vBoFJWJms"
      },
      "outputs": [],
      "source": []
    }
  ],
  "metadata": {
    "colab": {
      "provenance": []
    },
    "kernelspec": {
      "display_name": "Python 3 (ipykernel)",
      "language": "python",
      "name": "python3"
    },
    "language_info": {
      "codemirror_mode": {
        "name": "ipython",
        "version": 3
      },
      "file_extension": ".py",
      "mimetype": "text/x-python",
      "name": "python",
      "nbconvert_exporter": "python",
      "pygments_lexer": "ipython3",
      "version": "3.9.7"
    }
  },
  "nbformat": 4,
  "nbformat_minor": 0
}