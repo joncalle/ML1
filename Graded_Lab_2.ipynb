{
 "cells": [
  {
   "cell_type": "markdown",
   "metadata": {},
   "source": [
    "## DAB200 -- Graded Lab 2\n",
    "\n",
    "In this lab, you will gain some experience in converting non-numeric features in a dataset to numeric so they can be used in a machine learning model.\n",
    "\n",
    "**Target**: to predict `Comb Unadj FE - Conventional Fuel`\n",
    "\n",
    "**Note**: There may be other \"features\" similar to the target, so these need to be removed from the data."
   ]
  },
  {
   "cell_type": "markdown",
   "metadata": {},
   "source": [
    "**Data set**: make sure you use the data assigned to your group!\n",
    "\n",
    "| Groups | Data set |\n",
    "| :-: | :-: |\n",
    "| 1-4 | veh15.csv |\n",
    "| 5-7 | veh16.csv |\n",
    "| 8-10 | veh17.csv |\n",
    "| 11-14 | veh18.csv |\n",
    "| 15-18 | veh19.csv |\n",
    "\n",
    "**Important Notes:**\n",
    "- Use [Chapter 6](https://mlbook.explained.ai/catvars.html) of the textbook as a **guide**:\n",
    "     - you only need to use **random forest** models;\n",
    "- Code submitted for this lab should be:\n",
    "     - error free\n",
    "         - to make sure this is the case, before submitting, close all Jupyter notebooks, exit Anaconda, reload the lab notebook and execute all cells\n",
    "     - final code\n",
    "         - this means that I don't want to see every piece of code you try as you work through this lab but only the final code; only the code that fulfills the objective\n",
    "- Use the **out-of-bag score** to evaluate models\n",
    "     - Read Section 5.2 carefully so that you use this method properly\n",
    "     - The oob score that you provide should be the average of 10 runs\n",
    "- Don't make assumptions!\n"
   ]
  },
  {
   "cell_type": "markdown",
   "metadata": {},
   "source": [
    "### Part 0\n",
    "\n",
    "Please provide the following information:\n",
    " - Group Number:   12\n",
    " - Group Members\n",
    "      Jonathan Calle (0825959)\n",
    "     "
   ]
  },
  {
   "cell_type": "markdown",
   "metadata": {},
   "source": [
    "### Part 1 - Create and evaluate an initial model\n",
    "\n",
    "In this part you should: \n",
    " - read in the data\n",
    " - isolate all numeric features from original data set\n",
    " - verify there are no missing values\n",
    " - create and evaluate a baseline model \n",
    "\n",
    "#### Code (15 marks)"
   ]
  },
  {
   "cell_type": "code",
   "execution_count": null,
   "metadata": {},
   "outputs": [],
   "source": []
  },
  {
   "cell_type": "markdown",
   "metadata": {},
   "source": [
    "#### Question (5 marks)\n",
    "\n",
    "Explain the purpose of creating a baseline model. "
   ]
  },
  {
   "cell_type": "markdown",
   "metadata": {},
   "source": [
    "### Part 2 - Convert non-numeric features to numeric\n",
    "\n",
    "In this part you should: \n",
    " - convert **all** non-numeric features to numeric\n",
    " - one of the conversions should use **one-hot encoding**\n",
    " - create **one new feature** by combining 2 or more of the existing features\n",
    " \n",
    "#### Code (25 marks)"
   ]
  },
  {
   "cell_type": "code",
   "execution_count": null,
   "metadata": {},
   "outputs": [],
   "source": []
  },
  {
   "cell_type": "markdown",
   "metadata": {},
   "source": [
    "#### Explanation (25 marks)\n",
    "\n",
    "Please provide an explanation for each conversion from non-numeric to numeric and state why this conversion is appropriate. Please also provide an explanation of the new feature created.  "
   ]
  },
  {
   "cell_type": "markdown",
   "metadata": {},
   "source": [
    "### Part 3 - Create and evaluate a final model\n",
    "\n",
    "In this part you should:\n",
    " - create and evaluate a model using all the features from Parts 1 and 2 above \n",
    "\n",
    "#### Code (15 marks)"
   ]
  },
  {
   "cell_type": "code",
   "execution_count": null,
   "metadata": {},
   "outputs": [],
   "source": []
  },
  {
   "cell_type": "markdown",
   "metadata": {},
   "source": [
    "### Part 4 - Feature importances and comparison (10 marks)\n",
    "\n",
    "In this part you should:\n",
    " - calculate the percent difference between the results of Part 1 and Part 3 (make sure you are using the correct formula for percent difference) \n",
    " - based on the percent difference, state whether or not the results of Part 3 are an improvement over the results of Part 1\n",
    " - use the `rfpimp` package to calculate and display the feature importances for all features"
   ]
  },
  {
   "cell_type": "code",
   "execution_count": null,
   "metadata": {},
   "outputs": [],
   "source": []
  },
  {
   "cell_type": "markdown",
   "metadata": {},
   "source": [
    "#### Question (5 marks)\n",
    "\n",
    "Based on the feature importances, are any features that you think should be removed from the data set.  Why do you think these features should be removed? "
   ]
  }
 ],
 "metadata": {
  "kernelspec": {
   "display_name": "Python 3 (ipykernel)",
   "language": "python",
   "name": "python3"
  },
  "language_info": {
   "codemirror_mode": {
    "name": "ipython",
    "version": 3
   },
   "file_extension": ".py",
   "mimetype": "text/x-python",
   "name": "python",
   "nbconvert_exporter": "python",
   "pygments_lexer": "ipython3",
   "version": "3.9.16"
  }
 },
 "nbformat": 4,
 "nbformat_minor": 4
}
