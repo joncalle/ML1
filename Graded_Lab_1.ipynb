{
  "cells": [
    {
      "cell_type": "markdown",
      "metadata": {
        "tags": [],
        "id": "gIeIXS7DuYcB"
      },
      "source": [
        "## DAB200 -- Graded Lab 1\n",
        "\n",
        "In this lab, you will gain some experience in **denoising** a dataset in the context of a specific objective. \n",
        "\n",
        "**Overall Objective**: Create a model that predicts rent prices as well as possible for typical New York City apartments."
      ]
    },
    {
      "cell_type": "markdown",
      "metadata": {
        "id": "ts-K6HOFuYcH"
      },
      "source": [
        "**Data set**: make sure you use the data with the same number as your group number!\n",
        "\n",
        "| Group | Data set |\n",
        "| :-: | :-: |\n",
        "| 1 | rent_1.csv |\n",
        "| 2 | rent_2.csv |\n",
        "| etc. | etc. |\n",
        "\n",
        "**Important Notes:**\n",
        " - This lab is more open-ended so be prepared to think on your own, in a logical way, in order to solve the problem at hand\n",
        "     - You should be able to support any decision you make with logical evidence\n",
        " - The data looks like the data we have been using in class but it has other **surprises**\n",
        "     - Be sure to investigate the data in a way that allows you to discover all these surprises\n",
        " - Use [Chapter 5](https://mlbook.explained.ai/prep.html) of the textbook as a **guide**, except:\n",
        "     - you only need to use **random forest** models;\n",
        "     - exclude Section 5.5; \n",
        " - Code submitted for this lab should be:\n",
        "     - error free\n",
        "         - to make sure this is the case, before submitting, close all Jupyter notebooks, exit Anaconda, reload the lab notebook and execute all cells\n",
        "     - final code\n",
        "         - this means that I don't want to see every piece of code you try as you work through this lab but only the final code; only the code that fulfills the objective\n",
        " - Use the **out-of-bag score** to evaluate models\n",
        "     - Read Section 5.2 carefully so that you use this method properly\n",
        "     - The oob score that you provide should be the average of 10 runs\n",
        " - Don't make assumptions!\n",
        "\n",
        "I have broken the lab down into 4 main parts. "
      ]
    },
    {
      "cell_type": "markdown",
      "metadata": {
        "id": "9m_-Y_PVuYcI"
      },
      "source": [
        "### Part 0\n",
        "\n",
        "Please provide the following information:\n",
        " - Group Number: 12\n",
        " - Group Members\n",
        "     - Jonathan Alberto Calle Zuniga (0825959)\n",
        "     - Jonathan Chukwuma OTEH (0775057)\n",
        "     - Name (Student ID)\n",
        "\n",
        "     "
      ]
    },
    {
      "cell_type": "markdown",
      "metadata": {
        "id": "5ScsgHtAuYcJ"
      },
      "source": [
        "### Part 1 - Create and evaluate an initial model\n",
        "\n",
        "#### Code (15 marks)"
      ]
    },
    {
      "cell_type": "code",
      "execution_count": 3,
      "metadata": {
        "id": "_vXF-sixuYcK"
      },
      "outputs": [],
      "source": [
        "import pandas as pd\n",
        "import numpy as np\n",
        "from sklearn.ensemble import RandomForestRegressor\n",
        "from sklearn.model_selection import train_test_split"
      ]
    },
    {
      "cell_type": "code",
      "source": [
        "rent_12 = pd.read_csv(\"https://raw.githubusercontent.com/joncalle/ML1/main/rent_12.csv\")\n",
        "rent_12 = rent_12[(rent_12.building_id != '0')]\n",
        "print(rent_12.shape) # print rows, columns\n",
        "rent_12.head(2)      # dump first 2 rows"
      ],
      "metadata": {
        "colab": {
          "base_uri": "https://localhost:8080/",
          "height": 332
        },
        "id": "4ZC4QRHNvUev",
        "outputId": "c7ff4c3a-0687-4f04-8f05-f9c5f45f2717"
      },
      "execution_count": 14,
      "outputs": [
        {
          "output_type": "stream",
          "name": "stdout",
          "text": [
            "(16672, 15)\n"
          ]
        },
        {
          "output_type": "execute_result",
          "data": {
            "text/plain": [
              "   bathrooms  bedrooms                       building_id              created  \\\n",
              "0        1.0         1  6257ec70258e72c2f9f32cb92f1d3449  2016-06-16 07:49:37   \n",
              "1        1.0         2  e3c4f2223d1deb777fc7941dbb41047c  2016-04-26 02:38:18   \n",
              "\n",
              "                                         description    display_address  \\\n",
              "0  Amazing modern rental, Central air and central...  North 12th Street   \n",
              "1  Spacious and bright full-floor two bedroom, 1....   East 55th Street   \n",
              "\n",
              "                                            features  latitude  longitude  \\\n",
              "0  ['Elevator', 'Laundry in Building', 'New Const...   40.7199   -73.9538   \n",
              "1  ['Laundry in Unit', 'Dishwasher', 'Hardwood Fl...   40.7593   -73.9689   \n",
              "\n",
              "                         manager_id  \\\n",
              "0  5ba989232d0489da1b5f2c45f6688adc   \n",
              "1  76a7b8c8e01b7192330128f82a3445fb   \n",
              "\n",
              "                                              photos  price  \\\n",
              "0  ['https://photos.renthop.com/2/7172218_c8961ee...   2850   \n",
              "1  ['https://photos.renthop.com/2/6924750_ea06008...   4000   \n",
              "\n",
              "          street_address  interest_level  num_desc_words  \n",
              "0  210 North 12th Street              -3              51  \n",
              "1   157 East 55th Street               1             182  "
            ],
            "text/html": [
              "\n",
              "  <div id=\"df-845326be-2163-4731-8e3e-ebecab9ca49f\">\n",
              "    <div class=\"colab-df-container\">\n",
              "      <div>\n",
              "<style scoped>\n",
              "    .dataframe tbody tr th:only-of-type {\n",
              "        vertical-align: middle;\n",
              "    }\n",
              "\n",
              "    .dataframe tbody tr th {\n",
              "        vertical-align: top;\n",
              "    }\n",
              "\n",
              "    .dataframe thead th {\n",
              "        text-align: right;\n",
              "    }\n",
              "</style>\n",
              "<table border=\"1\" class=\"dataframe\">\n",
              "  <thead>\n",
              "    <tr style=\"text-align: right;\">\n",
              "      <th></th>\n",
              "      <th>bathrooms</th>\n",
              "      <th>bedrooms</th>\n",
              "      <th>building_id</th>\n",
              "      <th>created</th>\n",
              "      <th>description</th>\n",
              "      <th>display_address</th>\n",
              "      <th>features</th>\n",
              "      <th>latitude</th>\n",
              "      <th>longitude</th>\n",
              "      <th>manager_id</th>\n",
              "      <th>photos</th>\n",
              "      <th>price</th>\n",
              "      <th>street_address</th>\n",
              "      <th>interest_level</th>\n",
              "      <th>num_desc_words</th>\n",
              "    </tr>\n",
              "  </thead>\n",
              "  <tbody>\n",
              "    <tr>\n",
              "      <th>0</th>\n",
              "      <td>1.0</td>\n",
              "      <td>1</td>\n",
              "      <td>6257ec70258e72c2f9f32cb92f1d3449</td>\n",
              "      <td>2016-06-16 07:49:37</td>\n",
              "      <td>Amazing modern rental, Central air and central...</td>\n",
              "      <td>North 12th Street</td>\n",
              "      <td>['Elevator', 'Laundry in Building', 'New Const...</td>\n",
              "      <td>40.7199</td>\n",
              "      <td>-73.9538</td>\n",
              "      <td>5ba989232d0489da1b5f2c45f6688adc</td>\n",
              "      <td>['https://photos.renthop.com/2/7172218_c8961ee...</td>\n",
              "      <td>2850</td>\n",
              "      <td>210 North 12th Street</td>\n",
              "      <td>-3</td>\n",
              "      <td>51</td>\n",
              "    </tr>\n",
              "    <tr>\n",
              "      <th>1</th>\n",
              "      <td>1.0</td>\n",
              "      <td>2</td>\n",
              "      <td>e3c4f2223d1deb777fc7941dbb41047c</td>\n",
              "      <td>2016-04-26 02:38:18</td>\n",
              "      <td>Spacious and bright full-floor two bedroom, 1....</td>\n",
              "      <td>East 55th Street</td>\n",
              "      <td>['Laundry in Unit', 'Dishwasher', 'Hardwood Fl...</td>\n",
              "      <td>40.7593</td>\n",
              "      <td>-73.9689</td>\n",
              "      <td>76a7b8c8e01b7192330128f82a3445fb</td>\n",
              "      <td>['https://photos.renthop.com/2/6924750_ea06008...</td>\n",
              "      <td>4000</td>\n",
              "      <td>157 East 55th Street</td>\n",
              "      <td>1</td>\n",
              "      <td>182</td>\n",
              "    </tr>\n",
              "  </tbody>\n",
              "</table>\n",
              "</div>\n",
              "      <button class=\"colab-df-convert\" onclick=\"convertToInteractive('df-845326be-2163-4731-8e3e-ebecab9ca49f')\"\n",
              "              title=\"Convert this dataframe to an interactive table.\"\n",
              "              style=\"display:none;\">\n",
              "        \n",
              "  <svg xmlns=\"http://www.w3.org/2000/svg\" height=\"24px\"viewBox=\"0 0 24 24\"\n",
              "       width=\"24px\">\n",
              "    <path d=\"M0 0h24v24H0V0z\" fill=\"none\"/>\n",
              "    <path d=\"M18.56 5.44l.94 2.06.94-2.06 2.06-.94-2.06-.94-.94-2.06-.94 2.06-2.06.94zm-11 1L8.5 8.5l.94-2.06 2.06-.94-2.06-.94L8.5 2.5l-.94 2.06-2.06.94zm10 10l.94 2.06.94-2.06 2.06-.94-2.06-.94-.94-2.06-.94 2.06-2.06.94z\"/><path d=\"M17.41 7.96l-1.37-1.37c-.4-.4-.92-.59-1.43-.59-.52 0-1.04.2-1.43.59L10.3 9.45l-7.72 7.72c-.78.78-.78 2.05 0 2.83L4 21.41c.39.39.9.59 1.41.59.51 0 1.02-.2 1.41-.59l7.78-7.78 2.81-2.81c.8-.78.8-2.07 0-2.86zM5.41 20L4 18.59l7.72-7.72 1.47 1.35L5.41 20z\"/>\n",
              "  </svg>\n",
              "      </button>\n",
              "      \n",
              "  <style>\n",
              "    .colab-df-container {\n",
              "      display:flex;\n",
              "      flex-wrap:wrap;\n",
              "      gap: 12px;\n",
              "    }\n",
              "\n",
              "    .colab-df-convert {\n",
              "      background-color: #E8F0FE;\n",
              "      border: none;\n",
              "      border-radius: 50%;\n",
              "      cursor: pointer;\n",
              "      display: none;\n",
              "      fill: #1967D2;\n",
              "      height: 32px;\n",
              "      padding: 0 0 0 0;\n",
              "      width: 32px;\n",
              "    }\n",
              "\n",
              "    .colab-df-convert:hover {\n",
              "      background-color: #E2EBFA;\n",
              "      box-shadow: 0px 1px 2px rgba(60, 64, 67, 0.3), 0px 1px 3px 1px rgba(60, 64, 67, 0.15);\n",
              "      fill: #174EA6;\n",
              "    }\n",
              "\n",
              "    [theme=dark] .colab-df-convert {\n",
              "      background-color: #3B4455;\n",
              "      fill: #D2E3FC;\n",
              "    }\n",
              "\n",
              "    [theme=dark] .colab-df-convert:hover {\n",
              "      background-color: #434B5C;\n",
              "      box-shadow: 0px 1px 3px 1px rgba(0, 0, 0, 0.15);\n",
              "      filter: drop-shadow(0px 1px 2px rgba(0, 0, 0, 0.3));\n",
              "      fill: #FFFFFF;\n",
              "    }\n",
              "  </style>\n",
              "\n",
              "      <script>\n",
              "        const buttonEl =\n",
              "          document.querySelector('#df-845326be-2163-4731-8e3e-ebecab9ca49f button.colab-df-convert');\n",
              "        buttonEl.style.display =\n",
              "          google.colab.kernel.accessAllowed ? 'block' : 'none';\n",
              "\n",
              "        async function convertToInteractive(key) {\n",
              "          const element = document.querySelector('#df-845326be-2163-4731-8e3e-ebecab9ca49f');\n",
              "          const dataTable =\n",
              "            await google.colab.kernel.invokeFunction('convertToInteractive',\n",
              "                                                     [key], {});\n",
              "          if (!dataTable) return;\n",
              "\n",
              "          const docLinkHtml = 'Like what you see? Visit the ' +\n",
              "            '<a target=\"_blank\" href=https://colab.research.google.com/notebooks/data_table.ipynb>data table notebook</a>'\n",
              "            + ' to learn more about interactive tables.';\n",
              "          element.innerHTML = '';\n",
              "          dataTable['output_type'] = 'display_data';\n",
              "          await google.colab.output.renderOutput(dataTable, element);\n",
              "          const docLink = document.createElement('div');\n",
              "          docLink.innerHTML = docLinkHtml;\n",
              "          element.appendChild(docLink);\n",
              "        }\n",
              "      </script>\n",
              "    </div>\n",
              "  </div>\n",
              "  "
            ]
          },
          "metadata": {},
          "execution_count": 14
        }
      ]
    },
    {
      "cell_type": "code",
      "source": [
        "# Select the relevant features on our dataset\n",
        "rent = rent_12[['bathrooms', 'bedrooms', 'longitude', 'latitude', 'price']]\n",
        "rent.head(2)"
      ],
      "metadata": {
        "colab": {
          "base_uri": "https://localhost:8080/",
          "height": 112
        },
        "id": "vXillNt3zkcQ",
        "outputId": "af5e3652-71d3-4320-98c9-4dc943238972"
      },
      "execution_count": 15,
      "outputs": [
        {
          "output_type": "execute_result",
          "data": {
            "text/plain": [
              "   bathrooms  bedrooms  longitude  latitude  price\n",
              "0        1.0         1   -73.9538   40.7199   2850\n",
              "1        1.0         2   -73.9689   40.7593   4000"
            ],
            "text/html": [
              "\n",
              "  <div id=\"df-03365beb-1807-4fa0-ab4f-e37df6c9291a\">\n",
              "    <div class=\"colab-df-container\">\n",
              "      <div>\n",
              "<style scoped>\n",
              "    .dataframe tbody tr th:only-of-type {\n",
              "        vertical-align: middle;\n",
              "    }\n",
              "\n",
              "    .dataframe tbody tr th {\n",
              "        vertical-align: top;\n",
              "    }\n",
              "\n",
              "    .dataframe thead th {\n",
              "        text-align: right;\n",
              "    }\n",
              "</style>\n",
              "<table border=\"1\" class=\"dataframe\">\n",
              "  <thead>\n",
              "    <tr style=\"text-align: right;\">\n",
              "      <th></th>\n",
              "      <th>bathrooms</th>\n",
              "      <th>bedrooms</th>\n",
              "      <th>longitude</th>\n",
              "      <th>latitude</th>\n",
              "      <th>price</th>\n",
              "    </tr>\n",
              "  </thead>\n",
              "  <tbody>\n",
              "    <tr>\n",
              "      <th>0</th>\n",
              "      <td>1.0</td>\n",
              "      <td>1</td>\n",
              "      <td>-73.9538</td>\n",
              "      <td>40.7199</td>\n",
              "      <td>2850</td>\n",
              "    </tr>\n",
              "    <tr>\n",
              "      <th>1</th>\n",
              "      <td>1.0</td>\n",
              "      <td>2</td>\n",
              "      <td>-73.9689</td>\n",
              "      <td>40.7593</td>\n",
              "      <td>4000</td>\n",
              "    </tr>\n",
              "  </tbody>\n",
              "</table>\n",
              "</div>\n",
              "      <button class=\"colab-df-convert\" onclick=\"convertToInteractive('df-03365beb-1807-4fa0-ab4f-e37df6c9291a')\"\n",
              "              title=\"Convert this dataframe to an interactive table.\"\n",
              "              style=\"display:none;\">\n",
              "        \n",
              "  <svg xmlns=\"http://www.w3.org/2000/svg\" height=\"24px\"viewBox=\"0 0 24 24\"\n",
              "       width=\"24px\">\n",
              "    <path d=\"M0 0h24v24H0V0z\" fill=\"none\"/>\n",
              "    <path d=\"M18.56 5.44l.94 2.06.94-2.06 2.06-.94-2.06-.94-.94-2.06-.94 2.06-2.06.94zm-11 1L8.5 8.5l.94-2.06 2.06-.94-2.06-.94L8.5 2.5l-.94 2.06-2.06.94zm10 10l.94 2.06.94-2.06 2.06-.94-2.06-.94-.94-2.06-.94 2.06-2.06.94z\"/><path d=\"M17.41 7.96l-1.37-1.37c-.4-.4-.92-.59-1.43-.59-.52 0-1.04.2-1.43.59L10.3 9.45l-7.72 7.72c-.78.78-.78 2.05 0 2.83L4 21.41c.39.39.9.59 1.41.59.51 0 1.02-.2 1.41-.59l7.78-7.78 2.81-2.81c.8-.78.8-2.07 0-2.86zM5.41 20L4 18.59l7.72-7.72 1.47 1.35L5.41 20z\"/>\n",
              "  </svg>\n",
              "      </button>\n",
              "      \n",
              "  <style>\n",
              "    .colab-df-container {\n",
              "      display:flex;\n",
              "      flex-wrap:wrap;\n",
              "      gap: 12px;\n",
              "    }\n",
              "\n",
              "    .colab-df-convert {\n",
              "      background-color: #E8F0FE;\n",
              "      border: none;\n",
              "      border-radius: 50%;\n",
              "      cursor: pointer;\n",
              "      display: none;\n",
              "      fill: #1967D2;\n",
              "      height: 32px;\n",
              "      padding: 0 0 0 0;\n",
              "      width: 32px;\n",
              "    }\n",
              "\n",
              "    .colab-df-convert:hover {\n",
              "      background-color: #E2EBFA;\n",
              "      box-shadow: 0px 1px 2px rgba(60, 64, 67, 0.3), 0px 1px 3px 1px rgba(60, 64, 67, 0.15);\n",
              "      fill: #174EA6;\n",
              "    }\n",
              "\n",
              "    [theme=dark] .colab-df-convert {\n",
              "      background-color: #3B4455;\n",
              "      fill: #D2E3FC;\n",
              "    }\n",
              "\n",
              "    [theme=dark] .colab-df-convert:hover {\n",
              "      background-color: #434B5C;\n",
              "      box-shadow: 0px 1px 3px 1px rgba(0, 0, 0, 0.15);\n",
              "      filter: drop-shadow(0px 1px 2px rgba(0, 0, 0, 0.3));\n",
              "      fill: #FFFFFF;\n",
              "    }\n",
              "  </style>\n",
              "\n",
              "      <script>\n",
              "        const buttonEl =\n",
              "          document.querySelector('#df-03365beb-1807-4fa0-ab4f-e37df6c9291a button.colab-df-convert');\n",
              "        buttonEl.style.display =\n",
              "          google.colab.kernel.accessAllowed ? 'block' : 'none';\n",
              "\n",
              "        async function convertToInteractive(key) {\n",
              "          const element = document.querySelector('#df-03365beb-1807-4fa0-ab4f-e37df6c9291a');\n",
              "          const dataTable =\n",
              "            await google.colab.kernel.invokeFunction('convertToInteractive',\n",
              "                                                     [key], {});\n",
              "          if (!dataTable) return;\n",
              "\n",
              "          const docLinkHtml = 'Like what you see? Visit the ' +\n",
              "            '<a target=\"_blank\" href=https://colab.research.google.com/notebooks/data_table.ipynb>data table notebook</a>'\n",
              "            + ' to learn more about interactive tables.';\n",
              "          element.innerHTML = '';\n",
              "          dataTable['output_type'] = 'display_data';\n",
              "          await google.colab.output.renderOutput(dataTable, element);\n",
              "          const docLink = document.createElement('div');\n",
              "          docLink.innerHTML = docLinkHtml;\n",
              "          element.appendChild(docLink);\n",
              "        }\n",
              "      </script>\n",
              "    </div>\n",
              "  </div>\n",
              "  "
            ]
          },
          "metadata": {},
          "execution_count": 15
        }
      ]
    },
    {
      "cell_type": "code",
      "source": [
        "# Separate the features and target columns.\n",
        "X_train, y_train = rent.drop('price', axis=1), rent['price']\n",
        "\n",
        "#Create an initial model\n",
        "rf = RandomForestRegressor(n_estimators = 100, # number of trees in the forest \n",
        "                           n_jobs = -1,        # using all processors\n",
        "                           oob_score = True)   # estimate the generalization score\n",
        "rf.fit(X_train, y_train)                       # Build a forest of trees from the training set (X, y).\n",
        "print(f\"OOB score {rf.oob_score_:.4f}\")        # Score of the training dataset obtained using an out-of-bag estimate."
      ],
      "metadata": {
        "colab": {
          "base_uri": "https://localhost:8080/"
        },
        "id": "aEMmaZviz4By",
        "outputId": "f096fedd-3a36-46e3-cbc9-883e2c83c4ea"
      },
      "execution_count": 16,
      "outputs": [
        {
          "output_type": "stream",
          "name": "stdout",
          "text": [
            "OOB score 0.4829\n"
          ]
        }
      ]
    },
    {
      "cell_type": "markdown",
      "metadata": {
        "id": "l4sWfnZIuYcK"
      },
      "source": [
        "#### Explanation (5 marks)\n",
        "\n",
        "Please provide an explanation and justification for the code submitted in **Part 1** in the context of the overall objective. \n",
        "\n",
        "We imported the libraries to be used like pandas, sklearn and numpy. Then we loaded the dataset as a Dataframe from the csv file provided for Group Number 12. \n",
        "After getting a preview of the data we selected as we considered were the most important features ('bathrooms', 'bedrooms', 'longitude', 'latitude', 'price') where the price feature will be target. \n",
        "We trained our model using a Random Forest Regressor and  then selected the Out-of-Bag score. \n",
        "After evaluating our model with OOB score we noticed (good?poor?xxxxx) performance(-x.xxxx)."
      ]
    },
    {
      "cell_type": "markdown",
      "metadata": {
        "id": "uqiqf026uYcL"
      },
      "source": [
        "### Part 2 - Denoise the data\n",
        "\n",
        "This section should only include the code necessary to **denoise** the data, NOT the code necessary to identify inconsistencies, problems, errors, etc. in the data. \n",
        "\n",
        "#### Code (25 marks)"
      ]
    },
    {
      "cell_type": "code",
      "execution_count": 17,
      "metadata": {
        "colab": {
          "base_uri": "https://localhost:8080/",
          "height": 223
        },
        "id": "1q-fUKhMuYcL",
        "outputId": "0f3ece43-6837-4e20-91ce-54220d329a11"
      },
      "outputs": [
        {
          "output_type": "stream",
          "name": "stdout",
          "text": [
            "(12047, 5)\n"
          ]
        },
        {
          "output_type": "execute_result",
          "data": {
            "text/plain": [
              "   bathrooms  bedrooms  longitude  latitude  price\n",
              "0        1.0         1   -73.9538   40.7199   2850\n",
              "1        1.0         2   -73.9689   40.7593   4000\n",
              "2        2.0         2   -73.9857   40.7691   5725\n",
              "4        1.0         1   -73.9935   40.7301   3500\n",
              "5        2.0         2   -73.9903   40.7468   7485"
            ],
            "text/html": [
              "\n",
              "  <div id=\"df-64e439f7-0155-4b27-a8b3-6b29ea428411\">\n",
              "    <div class=\"colab-df-container\">\n",
              "      <div>\n",
              "<style scoped>\n",
              "    .dataframe tbody tr th:only-of-type {\n",
              "        vertical-align: middle;\n",
              "    }\n",
              "\n",
              "    .dataframe tbody tr th {\n",
              "        vertical-align: top;\n",
              "    }\n",
              "\n",
              "    .dataframe thead th {\n",
              "        text-align: right;\n",
              "    }\n",
              "</style>\n",
              "<table border=\"1\" class=\"dataframe\">\n",
              "  <thead>\n",
              "    <tr style=\"text-align: right;\">\n",
              "      <th></th>\n",
              "      <th>bathrooms</th>\n",
              "      <th>bedrooms</th>\n",
              "      <th>longitude</th>\n",
              "      <th>latitude</th>\n",
              "      <th>price</th>\n",
              "    </tr>\n",
              "  </thead>\n",
              "  <tbody>\n",
              "    <tr>\n",
              "      <th>0</th>\n",
              "      <td>1.0</td>\n",
              "      <td>1</td>\n",
              "      <td>-73.9538</td>\n",
              "      <td>40.7199</td>\n",
              "      <td>2850</td>\n",
              "    </tr>\n",
              "    <tr>\n",
              "      <th>1</th>\n",
              "      <td>1.0</td>\n",
              "      <td>2</td>\n",
              "      <td>-73.9689</td>\n",
              "      <td>40.7593</td>\n",
              "      <td>4000</td>\n",
              "    </tr>\n",
              "    <tr>\n",
              "      <th>2</th>\n",
              "      <td>2.0</td>\n",
              "      <td>2</td>\n",
              "      <td>-73.9857</td>\n",
              "      <td>40.7691</td>\n",
              "      <td>5725</td>\n",
              "    </tr>\n",
              "    <tr>\n",
              "      <th>4</th>\n",
              "      <td>1.0</td>\n",
              "      <td>1</td>\n",
              "      <td>-73.9935</td>\n",
              "      <td>40.7301</td>\n",
              "      <td>3500</td>\n",
              "    </tr>\n",
              "    <tr>\n",
              "      <th>5</th>\n",
              "      <td>2.0</td>\n",
              "      <td>2</td>\n",
              "      <td>-73.9903</td>\n",
              "      <td>40.7468</td>\n",
              "      <td>7485</td>\n",
              "    </tr>\n",
              "  </tbody>\n",
              "</table>\n",
              "</div>\n",
              "      <button class=\"colab-df-convert\" onclick=\"convertToInteractive('df-64e439f7-0155-4b27-a8b3-6b29ea428411')\"\n",
              "              title=\"Convert this dataframe to an interactive table.\"\n",
              "              style=\"display:none;\">\n",
              "        \n",
              "  <svg xmlns=\"http://www.w3.org/2000/svg\" height=\"24px\"viewBox=\"0 0 24 24\"\n",
              "       width=\"24px\">\n",
              "    <path d=\"M0 0h24v24H0V0z\" fill=\"none\"/>\n",
              "    <path d=\"M18.56 5.44l.94 2.06.94-2.06 2.06-.94-2.06-.94-.94-2.06-.94 2.06-2.06.94zm-11 1L8.5 8.5l.94-2.06 2.06-.94-2.06-.94L8.5 2.5l-.94 2.06-2.06.94zm10 10l.94 2.06.94-2.06 2.06-.94-2.06-.94-.94-2.06-.94 2.06-2.06.94z\"/><path d=\"M17.41 7.96l-1.37-1.37c-.4-.4-.92-.59-1.43-.59-.52 0-1.04.2-1.43.59L10.3 9.45l-7.72 7.72c-.78.78-.78 2.05 0 2.83L4 21.41c.39.39.9.59 1.41.59.51 0 1.02-.2 1.41-.59l7.78-7.78 2.81-2.81c.8-.78.8-2.07 0-2.86zM5.41 20L4 18.59l7.72-7.72 1.47 1.35L5.41 20z\"/>\n",
              "  </svg>\n",
              "      </button>\n",
              "      \n",
              "  <style>\n",
              "    .colab-df-container {\n",
              "      display:flex;\n",
              "      flex-wrap:wrap;\n",
              "      gap: 12px;\n",
              "    }\n",
              "\n",
              "    .colab-df-convert {\n",
              "      background-color: #E8F0FE;\n",
              "      border: none;\n",
              "      border-radius: 50%;\n",
              "      cursor: pointer;\n",
              "      display: none;\n",
              "      fill: #1967D2;\n",
              "      height: 32px;\n",
              "      padding: 0 0 0 0;\n",
              "      width: 32px;\n",
              "    }\n",
              "\n",
              "    .colab-df-convert:hover {\n",
              "      background-color: #E2EBFA;\n",
              "      box-shadow: 0px 1px 2px rgba(60, 64, 67, 0.3), 0px 1px 3px 1px rgba(60, 64, 67, 0.15);\n",
              "      fill: #174EA6;\n",
              "    }\n",
              "\n",
              "    [theme=dark] .colab-df-convert {\n",
              "      background-color: #3B4455;\n",
              "      fill: #D2E3FC;\n",
              "    }\n",
              "\n",
              "    [theme=dark] .colab-df-convert:hover {\n",
              "      background-color: #434B5C;\n",
              "      box-shadow: 0px 1px 3px 1px rgba(0, 0, 0, 0.15);\n",
              "      filter: drop-shadow(0px 1px 2px rgba(0, 0, 0, 0.3));\n",
              "      fill: #FFFFFF;\n",
              "    }\n",
              "  </style>\n",
              "\n",
              "      <script>\n",
              "        const buttonEl =\n",
              "          document.querySelector('#df-64e439f7-0155-4b27-a8b3-6b29ea428411 button.colab-df-convert');\n",
              "        buttonEl.style.display =\n",
              "          google.colab.kernel.accessAllowed ? 'block' : 'none';\n",
              "\n",
              "        async function convertToInteractive(key) {\n",
              "          const element = document.querySelector('#df-64e439f7-0155-4b27-a8b3-6b29ea428411');\n",
              "          const dataTable =\n",
              "            await google.colab.kernel.invokeFunction('convertToInteractive',\n",
              "                                                     [key], {});\n",
              "          if (!dataTable) return;\n",
              "\n",
              "          const docLinkHtml = 'Like what you see? Visit the ' +\n",
              "            '<a target=\"_blank\" href=https://colab.research.google.com/notebooks/data_table.ipynb>data table notebook</a>'\n",
              "            + ' to learn more about interactive tables.';\n",
              "          element.innerHTML = '';\n",
              "          dataTable['output_type'] = 'display_data';\n",
              "          await google.colab.output.renderOutput(dataTable, element);\n",
              "          const docLink = document.createElement('div');\n",
              "          docLink.innerHTML = docLinkHtml;\n",
              "          element.appendChild(docLink);\n",
              "        }\n",
              "      </script>\n",
              "    </div>\n",
              "  </div>\n",
              "  "
            ]
          },
          "metadata": {},
          "execution_count": 17
        }
      ],
      "source": [
        "# filter all asuming a rent price higher that 1k but lower thatn 10k\n",
        "rent_clean = rent[(rent.price>1000) & (rent.price<10000)]\n",
        "\n",
        "# filter all apartment where bath and rooms > 0\n",
        "rent_clean = rent_clean[(rent_clean.bathrooms>0) & (rent_clean.bedrooms>0)]\n",
        "\n",
        "# Including apartments with valid number of bathrooms.\n",
        "rent_clean = rent_clean[((rent_clean.bedrooms==1) & (rent_clean.bathrooms<2)) |\n",
        "                  (rent_clean.bedrooms==2) & (rent_clean.bathrooms<3) |\n",
        "                  (rent_clean.bedrooms==3) & (rent_clean.bathrooms<4) |\n",
        "                  (rent_clean.bedrooms==4) & (rent_clean.bathrooms<5) |\n",
        "                  (rent_clean.bedrooms==5) & (rent_clean.bathrooms<6) |\n",
        "                  (rent_clean.bedrooms==6) & (rent_clean.bathrooms<7)]\n",
        "\n",
        "# Latitude Range: Approximately 40.4774° N to 40.9176° N\n",
        "# Longitude Range: Approximately -74.2591° W to -73.7004° W\n",
        "rent_clean = rent_clean[(rent_clean['latitude']>40.4774) &\n",
        "                    (rent_clean['latitude']<40.9176) &\n",
        "                    (rent_clean['longitude']>=-74.2591) &\n",
        "                    (rent_clean['longitude']<=-73.7004)]\n",
        "\n",
        "\n",
        "print(rent_clean.shape) # print rows, columns\n",
        "rent_clean.head()"
      ]
    },
    {
      "cell_type": "markdown",
      "metadata": {
        "id": "xeQK-nWuuYcL"
      },
      "source": [
        "### Part 3 - Create and evaluate a final model\n",
        "\n",
        "#### Code (15 marks)"
      ]
    },
    {
      "cell_type": "code",
      "execution_count": 18,
      "metadata": {
        "id": "YcAZS88xuYcM",
        "colab": {
          "base_uri": "https://localhost:8080/"
        },
        "outputId": "0cfb9b15-a6d4-44fa-c911-4a90de7960e4"
      },
      "outputs": [
        {
          "output_type": "stream",
          "name": "stdout",
          "text": [
            "Average OOB score over 10 runs: 0.8075\n"
          ]
        }
      ],
      "source": [
        "# The oob score provided should be the average of 10 runs\n",
        "X, y = rent_clean.drop('price', axis=1), rent_clean['price']\n",
        "oob_scores = []\n",
        "numRuns = 10    # numbers of runs\n",
        "\n",
        "for i in range(numRuns):\n",
        "    rf = RandomForestRegressor(n_estimators = 100,\n",
        "                               n_jobs = -1,        \n",
        "                               oob_score = True)\n",
        "    X_train, X_test, y_train, y_test =  train_test_split(X, y, test_size=0.20)\n",
        "    rf.fit(X, y)\n",
        "    oob_scores.append(rf.oob_score_)\n",
        "\n",
        "avg_oob = sum(oob_scores) / len(oob_scores)\n",
        "print(f\"Average OOB score over 10 runs: {avg_oob:.4f}\")"
      ]
    },
    {
      "cell_type": "markdown",
      "metadata": {
        "id": "BxmvvbikuYcM"
      },
      "source": [
        "#### Explanation (5 marks)\n",
        "\n",
        "Please provide an explanation and justification for the code submitted in **Part 3** in the context of the overall objective. "
      ]
    },
    {
      "cell_type": "markdown",
      "metadata": {
        "id": "I2MiDlE5uYcM"
      },
      "source": [
        "### Part 4 - Document the problems (35 marks)\n",
        "\n",
        "In this part, please use the table below to document your understanding of all the data issues you discovered. Note that **no code** should be included, as that should be covered in **Part 2**. Also, note that even if one line of code fixed a few problems, you should list each problem separately in the table below, so be sure you have investigated the data properly. For example, if the list `[-6, 5, 0, 50]` represents heights of adults, the -6, 0, and 50 would represent three data issues to be included in the table below, even though one line of code may be able to address all of them. \n",
        "\n",
        "| Data issue discovered | Why is this a problem? | How did you fix it? | Why is this fix appropriate? |\n",
        "| :- | :- | :- | :- | \n",
        "|  example problem 1  | example explanation    | example fix  | example explanation about why this fix is appropriate   |\n",
        "|  example problem 2  | example explanation    | example fix  | example explanation about why this fix is appropriate   |\n"
      ]
    },
    {
      "cell_type": "code",
      "execution_count": 8,
      "metadata": {
        "id": "n4vnFtO8uYcN"
      },
      "outputs": [],
      "source": []
    }
  ],
  "metadata": {
    "kernelspec": {
      "display_name": "Python 3 (ipykernel)",
      "language": "python",
      "name": "python3"
    },
    "language_info": {
      "codemirror_mode": {
        "name": "ipython",
        "version": 3
      },
      "file_extension": ".py",
      "mimetype": "text/x-python",
      "name": "python",
      "nbconvert_exporter": "python",
      "pygments_lexer": "ipython3",
      "version": "3.9.16"
    },
    "colab": {
      "provenance": []
    }
  },
  "nbformat": 4,
  "nbformat_minor": 0
}